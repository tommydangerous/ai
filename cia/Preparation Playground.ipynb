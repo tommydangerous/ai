{
 "cells": [
  {
   "cell_type": "code",
   "execution_count": 11,
   "metadata": {
    "collapsed": true
   },
   "outputs": [],
   "source": [
    "import datetime\n",
    "import numpy as np\n",
    "import pandas as pd\n",
    "\n",
    "from helpers import common as cm"
   ]
  },
  {
   "cell_type": "code",
   "execution_count": 2,
   "metadata": {
    "collapsed": true
   },
   "outputs": [],
   "source": [
    "df_raw = cm.load_data('datasets/BittrexChart')"
   ]
  },
  {
   "cell_type": "code",
   "execution_count": 8,
   "metadata": {},
   "outputs": [],
   "source": [
    "    df_raw.columns = [\n",
    "        'created_at',\n",
    "        'currency',\n",
    "        'exchange',\n",
    "        'price',\n",
    "        'price_close',\n",
    "        'price_high',\n",
    "        'price_low',\n",
    "        'price_open',\n",
    "        'quantity',\n",
    "        'timestamp',\n",
    "        'timestamp_close',\n",
    "        'timestamp_open',\n",
    "        'uuid',\n",
    "    ]"
   ]
  },
  {
   "cell_type": "code",
   "execution_count": 14,
   "metadata": {},
   "outputs": [],
   "source": [
    "def extract_time_components(x):\n",
    "    date = datetime.datetime.fromtimestamp(x)\n",
    "    return int(date.strftime('%Y%m%d')), int(date.strftime('%H')), int(date.strftime('%M'))\n",
    "\n",
    "def add_time_component_columns(df):\n",
    "    df['date'], df['hour'], df['minute'] = zip(*df['timestamp_close'].apply(extract_time_components))\n",
    "    return df_raw\n",
    "\n",
    "df_raw_with_time = add_time_component_columns(df_raw)"
   ]
  },
  {
   "cell_type": "code",
   "execution_count": null,
   "metadata": {},
   "outputs": [],
   "source": []
  },
  {
   "cell_type": "code",
   "execution_count": 28,
   "metadata": {
    "collapsed": true
   },
   "outputs": [],
   "source": [
    "def group_by(df, columns):\n",
    "    group = df.groupby(columns, axis=0)\n",
    "    return [(key, group.get_group(key)) for key in group.groups.keys()]\n",
    "    \n",
    "def group_by_date(df):\n",
    "    return sorted(group_by(df, ['date']), key=lambda x: x[0])\n",
    "\n",
    "def group_by_currency(df):\n",
    "    return sorted(group_by(df, ['currency']), key=lambda x: x[0])\n",
    "\n",
    "def group_by_hour(df):\n",
    "    return sorted(group_by(df, ['hour']), key=lambda x: x[0])\n",
    "\n",
    "def group_by_minute(df):\n",
    "    return sorted(group_by(df, ['minute']), key=lambda x: x[0])\n",
    "\n",
    "def transform_data_with_new_columns(df):\n",
    "    group_sorted = df.sort_values(\n",
    "        ['timestamp_close'], ascending=[1]\n",
    "    ).drop_duplicates(\n",
    "        'timestamp_close', keep='last'\n",
    "    )\n",
    "    volume = sum(group_sorted['quantity'])\n",
    "    price_open = group_sorted.iloc[0]['price_open']\n",
    "    closing_prices = group_sorted['price_close']\n",
    "    price_close = closing_prices.iloc[len(group_sorted) - 1]\n",
    "    price_high = max(closing_prices)\n",
    "    price_low = min(closing_prices)\n",
    "    return volume, price_open, price_close, price_high, price_low\n",
    "\n",
    "def transform_all(df):\n",
    "    new_columns = [\n",
    "        'date',\n",
    "        'hour',\n",
    "        'minute',\n",
    "        'currency',\n",
    "        'volume',\n",
    "        'price_open',\n",
    "        'price_close',\n",
    "        'price_high',\n",
    "        'price_low',\n",
    "    ]\n",
    "    d = {}\n",
    "    count = 0\n",
    "    for currency, g_by_c in group_by_currency(df):\n",
    "        arr = []\n",
    "        for date, g_by_d in group_by_date(g_by_c):\n",
    "            for hour, g_by_h in group_by_hour(g_by_d):\n",
    "                for minute, g_by_m in group_by_minute(g_by_h):\n",
    "                    values = transform_data_with_new_columns(g_by_m)\n",
    "                    arr.append((date, hour, minute, currency) + values)\n",
    "                    count += 1\n",
    "                    if count % 100000 == 0:\n",
    "                        print(count)\n",
    "        d[currency] = pd.DataFrame(data=arr, columns=new_columns)\n",
    "    return d"
   ]
  },
  {
   "cell_type": "code",
   "execution_count": 29,
   "metadata": {},
   "outputs": [
    {
     "name": "stdout",
     "output_type": "stream",
     "text": [
      "100000\n",
      "200000\n",
      "300000\n",
      "400000\n",
      "500000\n",
      "600000\n",
      "700000\n",
      "800000\n",
      "900000\n",
      "1000000\n",
      "1100000\n",
      "1200000\n",
      "1300000\n",
      "1400000\n",
      "1500000\n",
      "1600000\n",
      "1700000\n",
      "1800000\n",
      "1900000\n",
      "2000000\n",
      "2100000\n",
      "2200000\n",
      "2300000\n",
      "2400000\n",
      "2500000\n",
      "2600000\n",
      "2700000\n",
      "2800000\n",
      "2900000\n",
      "3000000\n",
      "3100000\n",
      "3200000\n",
      "3300000\n",
      "3400000\n",
      "3500000\n",
      "3600000\n",
      "3700000\n",
      "3800000\n",
      "3900000\n",
      "4000000\n",
      "4100000\n",
      "4200000\n",
      "4300000\n",
      "4400000\n"
     ]
    }
   ],
   "source": [
    "df_transformed_initial = transform_all(df_raw_with_time)"
   ]
  },
  {
   "cell_type": "code",
   "execution_count": 33,
   "metadata": {},
   "outputs": [],
   "source": [
    "exchange = 'Bittrex'\n",
    "\n",
    "for currency, df in df_transformed_initial.items():\n",
    "    df.to_csv('data/currencies/{}/{}.csv'.format(exchange, currency), index=False)"
   ]
  },
  {
   "cell_type": "code",
   "execution_count": 35,
   "metadata": {},
   "outputs": [],
   "source": [
    "import os\n",
    "\n",
    "df_transformed = {}\n",
    "currencies = []\n",
    "for name in os.listdir('data/currencies/{}'.format(exchange)):\n",
    "    if not name.startswith('.') :\n",
    "        currencies.append(name.split('.csv')[0])\n",
    "\n",
    "for currency in currencies:\n",
    "    df_transformed[currency] = cm.load_data('data/currencies/{}/{}.csv'.format(exchange, currency))"
   ]
  },
  {
   "cell_type": "code",
   "execution_count": 36,
   "metadata": {},
   "outputs": [
    {
     "ename": "KeyError",
     "evalue": "'hey'",
     "output_type": "error",
     "traceback": [
      "\u001b[0;31m---------------------------------------------------------------------------\u001b[0m",
      "\u001b[0;31mKeyError\u001b[0m                                  Traceback (most recent call last)",
      "\u001b[0;32m<ipython-input-36-a915c2dec64b>\u001b[0m in \u001b[0;36m<module>\u001b[0;34m()\u001b[0m\n\u001b[0;32m----> 1\u001b[0;31m \u001b[0;34m{\u001b[0m\u001b[0;34m}\u001b[0m\u001b[0;34m[\u001b[0m\u001b[0;34m'hey'\u001b[0m\u001b[0;34m]\u001b[0m\u001b[0;34m\u001b[0m\u001b[0m\n\u001b[0m",
      "\u001b[0;31mKeyError\u001b[0m: 'hey'"
     ]
    }
   ],
   "source": [
    "{}['hey']"
   ]
  },
  {
   "cell_type": "code",
   "execution_count": null,
   "metadata": {
    "collapsed": true
   },
   "outputs": [],
   "source": []
  }
 ],
 "metadata": {
  "kernelspec": {
   "display_name": "Python 3",
   "language": "python",
   "name": "python3"
  },
  "language_info": {
   "codemirror_mode": {
    "name": "ipython",
    "version": 3
   },
   "file_extension": ".py",
   "mimetype": "text/x-python",
   "name": "python",
   "nbconvert_exporter": "python",
   "pygments_lexer": "ipython3",
   "version": "3.6.1"
  }
 },
 "nbformat": 4,
 "nbformat_minor": 2
}
