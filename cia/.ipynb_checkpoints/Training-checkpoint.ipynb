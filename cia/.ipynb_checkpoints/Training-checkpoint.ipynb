{
 "cells": [
  {
   "cell_type": "code",
   "execution_count": 16,
   "metadata": {},
   "outputs": [],
   "source": [
    "import numpy as np\n",
    "import pandas as pd\n",
    "\n",
    "from helpers import cleaner as cl\n",
    "from helpers import common as cm\n",
    "from helpers import trainer as tr"
   ]
  },
  {
   "cell_type": "code",
   "execution_count": 17,
   "metadata": {
    "collapsed": true
   },
   "outputs": [],
   "source": [
    "from sklearn.linear_model import LinearRegression, LogisticRegression\n",
    "from sklearn.metrics import make_scorer, mean_squared_error, precision_score\n",
    "from sklearn.model_selection import GridSearchCV\n",
    "from sklearn.preprocessing import PolynomialFeatures"
   ]
  },
  {
   "cell_type": "code",
   "execution_count": 18,
   "metadata": {
    "collapsed": true
   },
   "outputs": [],
   "source": [
    "exchange = 'Bittrex'"
   ]
  },
  {
   "cell_type": "code",
   "execution_count": 19,
   "metadata": {},
   "outputs": [],
   "source": [
    "df_shared = cm.load_data('data/shared/{}/transformed.csv'.format(exchange))\n",
    "df_original = cm.load_data('data/shared/{}/original.csv'.format(exchange))"
   ]
  },
  {
   "cell_type": "markdown",
   "metadata": {},
   "source": [
    "# Shared\n",
    "---"
   ]
  },
  {
   "cell_type": "code",
   "execution_count": 20,
   "metadata": {},
   "outputs": [],
   "source": [
    "# Variables\n",
    "currency_to_predict = 'LTC'\n",
    "all_columns = df_shared.columns\n",
    "label_column_name = 'price_close'\n",
    "column_name = '{}_{}'.format(label_column_name, currency_to_predict)"
   ]
  },
  {
   "cell_type": "code",
   "execution_count": 21,
   "metadata": {},
   "outputs": [],
   "source": [
    "currencies = cm.all_currencies()\n",
    "all_dates = sorted(list(set(df_original['date'])))\n",
    "all_hours = cm.all_hours()\n",
    "all_minutes = cm.all_minutes()"
   ]
  },
  {
   "cell_type": "code",
   "execution_count": 22,
   "metadata": {},
   "outputs": [],
   "source": [
    "labels_original = pd.DataFrame(columns=['label'])\n",
    "labels_original['label'] = df_original[[column_name]]"
   ]
  },
  {
   "cell_type": "markdown",
   "metadata": {},
   "source": [
    "# Logistic Regression\n",
    "---"
   ]
  },
  {
   "cell_type": "code",
   "execution_count": 23,
   "metadata": {},
   "outputs": [],
   "source": [
    "df_cleaned, labels_cleaned = cl.clean_data_using_labels(\n",
    "    df_shared,\n",
    "    labels_original,\n",
    "    1,\n",
    "    lambda x, y: x > y,\n",
    ")"
   ]
  },
  {
   "cell_type": "code",
   "execution_count": 24,
   "metadata": {},
   "outputs": [],
   "source": [
    "X_train, y_train, X_test, y_test = tr.training_and_test_sets(\n",
    "    df_cleaned,\n",
    "    labels_cleaned,\n",
    "    ['date', 'hour', 'minute'],\n",
    ")"
   ]
  },
  {
   "cell_type": "code",
   "execution_count": 25,
   "metadata": {},
   "outputs": [],
   "source": [
    "param_grid = {\n",
    "    'C': np.logspace(-2, 10, num=3),\n",
    "    'max_iter': [1000, 2000, 3000],\n",
    "    'random_state': [0],\n",
    "    'solver': [\n",
    "        'newton-cg',\n",
    "        'lbfgs',\n",
    "        'liblinear',\n",
    "        'sag',\n",
    "    ],\n",
    "}\n",
    "\n",
    "gs = GridSearchCV(\n",
    "    LogisticRegression(),\n",
    "    param_grid,\n",
    "    cv=3,\n",
    "    scoring=make_scorer(precision_score),\n",
    "    verbose=10,\n",
    ")"
   ]
  },
  {
   "cell_type": "code",
   "execution_count": 27,
   "metadata": {},
   "outputs": [
    {
     "name": "stdout",
     "output_type": "stream",
     "text": [
      "Fitting 3 folds for each of 36 candidates, totalling 108 fits\n",
      "[CV] C=0.01, max_iter=1000, random_state=0, solver=newton-cg .........\n",
      "[CV]  C=0.01, max_iter=1000, random_state=0, solver=newton-cg, score=0.546006, total=   1.4s\n",
      "[CV] C=0.01, max_iter=1000, random_state=0, solver=newton-cg .........\n"
     ]
    },
    {
     "name": "stderr",
     "output_type": "stream",
     "text": [
      "[Parallel(n_jobs=1)]: Done   1 out of   1 | elapsed:    1.4s remaining:    0.0s\n"
     ]
    },
    {
     "name": "stdout",
     "output_type": "stream",
     "text": [
      "[CV]  C=0.01, max_iter=1000, random_state=0, solver=newton-cg, score=0.510040, total=   1.4s\n",
      "[CV] C=0.01, max_iter=1000, random_state=0, solver=newton-cg .........\n"
     ]
    },
    {
     "name": "stderr",
     "output_type": "stream",
     "text": [
      "[Parallel(n_jobs=1)]: Done   2 out of   2 | elapsed:    2.8s remaining:    0.0s\n"
     ]
    },
    {
     "name": "stdout",
     "output_type": "stream",
     "text": [
      "[CV]  C=0.01, max_iter=1000, random_state=0, solver=newton-cg, score=0.493540, total=   1.6s\n",
      "[CV] C=0.01, max_iter=1000, random_state=0, solver=lbfgs .............\n"
     ]
    },
    {
     "name": "stderr",
     "output_type": "stream",
     "text": [
      "[Parallel(n_jobs=1)]: Done   3 out of   3 | elapsed:    4.4s remaining:    0.0s\n"
     ]
    },
    {
     "name": "stdout",
     "output_type": "stream",
     "text": [
      "[CV]  C=0.01, max_iter=1000, random_state=0, solver=lbfgs, score=0.546006, total=   0.7s\n",
      "[CV] C=0.01, max_iter=1000, random_state=0, solver=lbfgs .............\n"
     ]
    },
    {
     "name": "stderr",
     "output_type": "stream",
     "text": [
      "[Parallel(n_jobs=1)]: Done   4 out of   4 | elapsed:    5.1s remaining:    0.0s\n"
     ]
    },
    {
     "name": "stdout",
     "output_type": "stream",
     "text": [
      "[CV]  C=0.01, max_iter=1000, random_state=0, solver=lbfgs, score=0.510040, total=   0.7s\n",
      "[CV] C=0.01, max_iter=1000, random_state=0, solver=lbfgs .............\n"
     ]
    },
    {
     "name": "stderr",
     "output_type": "stream",
     "text": [
      "[Parallel(n_jobs=1)]: Done   5 out of   5 | elapsed:    5.9s remaining:    0.0s\n"
     ]
    },
    {
     "name": "stdout",
     "output_type": "stream",
     "text": [
      "[CV]  C=0.01, max_iter=1000, random_state=0, solver=lbfgs, score=0.493103, total=   0.8s\n",
      "[CV] C=0.01, max_iter=1000, random_state=0, solver=liblinear .........\n"
     ]
    },
    {
     "name": "stderr",
     "output_type": "stream",
     "text": [
      "[Parallel(n_jobs=1)]: Done   6 out of   6 | elapsed:    6.7s remaining:    0.0s\n"
     ]
    },
    {
     "name": "stdout",
     "output_type": "stream",
     "text": [
      "[CV]  C=0.01, max_iter=1000, random_state=0, solver=liblinear, score=0.535961, total=   2.2s\n",
      "[CV] C=0.01, max_iter=1000, random_state=0, solver=liblinear .........\n"
     ]
    },
    {
     "name": "stderr",
     "output_type": "stream",
     "text": [
      "[Parallel(n_jobs=1)]: Done   7 out of   7 | elapsed:    8.9s remaining:    0.0s\n"
     ]
    },
    {
     "name": "stdout",
     "output_type": "stream",
     "text": [
      "[CV]  C=0.01, max_iter=1000, random_state=0, solver=liblinear, score=0.508991, total=   2.1s\n",
      "[CV] C=0.01, max_iter=1000, random_state=0, solver=liblinear .........\n"
     ]
    },
    {
     "name": "stderr",
     "output_type": "stream",
     "text": [
      "[Parallel(n_jobs=1)]: Done   8 out of   8 | elapsed:   11.0s remaining:    0.0s\n"
     ]
    },
    {
     "name": "stdout",
     "output_type": "stream",
     "text": [
      "[CV]  C=0.01, max_iter=1000, random_state=0, solver=liblinear, score=0.489238, total=   2.1s\n",
      "[CV] C=0.01, max_iter=1000, random_state=0, solver=sag ...............\n"
     ]
    },
    {
     "name": "stderr",
     "output_type": "stream",
     "text": [
      "[Parallel(n_jobs=1)]: Done   9 out of   9 | elapsed:   13.2s remaining:    0.0s\n"
     ]
    },
    {
     "name": "stdout",
     "output_type": "stream",
     "text": [
      "[CV]  C=0.01, max_iter=1000, random_state=0, solver=sag, score=0.546006, total=   9.8s\n",
      "[CV] C=0.01, max_iter=1000, random_state=0, solver=sag ...............\n",
      "[CV]  C=0.01, max_iter=1000, random_state=0, solver=sag, score=0.510040, total=  10.0s\n",
      "[CV] C=0.01, max_iter=1000, random_state=0, solver=sag ...............\n",
      "[CV]  C=0.01, max_iter=1000, random_state=0, solver=sag, score=0.493540, total=   7.9s\n",
      "[CV] C=0.01, max_iter=2000, random_state=0, solver=newton-cg .........\n",
      "[CV]  C=0.01, max_iter=2000, random_state=0, solver=newton-cg, score=0.546006, total=   1.3s\n",
      "[CV] C=0.01, max_iter=2000, random_state=0, solver=newton-cg .........\n",
      "[CV]  C=0.01, max_iter=2000, random_state=0, solver=newton-cg, score=0.510040, total=   1.3s\n",
      "[CV] C=0.01, max_iter=2000, random_state=0, solver=newton-cg .........\n",
      "[CV]  C=0.01, max_iter=2000, random_state=0, solver=newton-cg, score=0.493540, total=   1.4s\n",
      "[CV] C=0.01, max_iter=2000, random_state=0, solver=lbfgs .............\n",
      "[CV]  C=0.01, max_iter=2000, random_state=0, solver=lbfgs, score=0.546006, total=   0.7s\n",
      "[CV] C=0.01, max_iter=2000, random_state=0, solver=lbfgs .............\n",
      "[CV]  C=0.01, max_iter=2000, random_state=0, solver=lbfgs, score=0.510040, total=   0.7s\n",
      "[CV] C=0.01, max_iter=2000, random_state=0, solver=lbfgs .............\n",
      "[CV]  C=0.01, max_iter=2000, random_state=0, solver=lbfgs, score=0.493103, total=   0.8s\n",
      "[CV] C=0.01, max_iter=2000, random_state=0, solver=liblinear .........\n",
      "[CV]  C=0.01, max_iter=2000, random_state=0, solver=liblinear, score=0.535961, total=   2.4s\n",
      "[CV] C=0.01, max_iter=2000, random_state=0, solver=liblinear .........\n",
      "[CV]  C=0.01, max_iter=2000, random_state=0, solver=liblinear, score=0.508991, total=   2.2s\n",
      "[CV] C=0.01, max_iter=2000, random_state=0, solver=liblinear .........\n",
      "[CV]  C=0.01, max_iter=2000, random_state=0, solver=liblinear, score=0.489238, total=   2.2s\n",
      "[CV] C=0.01, max_iter=2000, random_state=0, solver=sag ...............\n",
      "[CV]  C=0.01, max_iter=2000, random_state=0, solver=sag, score=0.546006, total=  10.3s\n",
      "[CV] C=0.01, max_iter=2000, random_state=0, solver=sag ...............\n",
      "[CV]  C=0.01, max_iter=2000, random_state=0, solver=sag, score=0.510040, total=  10.4s\n",
      "[CV] C=0.01, max_iter=2000, random_state=0, solver=sag ...............\n",
      "[CV]  C=0.01, max_iter=2000, random_state=0, solver=sag, score=0.493540, total=   9.0s\n",
      "[CV] C=0.01, max_iter=3000, random_state=0, solver=newton-cg .........\n",
      "[CV]  C=0.01, max_iter=3000, random_state=0, solver=newton-cg, score=0.546006, total=   1.6s\n",
      "[CV] C=0.01, max_iter=3000, random_state=0, solver=newton-cg .........\n",
      "[CV]  C=0.01, max_iter=3000, random_state=0, solver=newton-cg, score=0.510040, total=   1.5s\n",
      "[CV] C=0.01, max_iter=3000, random_state=0, solver=newton-cg .........\n",
      "[CV]  C=0.01, max_iter=3000, random_state=0, solver=newton-cg, score=0.493540, total=   1.5s\n",
      "[CV] C=0.01, max_iter=3000, random_state=0, solver=lbfgs .............\n",
      "[CV]  C=0.01, max_iter=3000, random_state=0, solver=lbfgs, score=0.546006, total=   0.7s\n",
      "[CV] C=0.01, max_iter=3000, random_state=0, solver=lbfgs .............\n",
      "[CV]  C=0.01, max_iter=3000, random_state=0, solver=lbfgs, score=0.510040, total=   0.8s\n",
      "[CV] C=0.01, max_iter=3000, random_state=0, solver=lbfgs .............\n",
      "[CV]  C=0.01, max_iter=3000, random_state=0, solver=lbfgs, score=0.493103, total=   0.9s\n",
      "[CV] C=0.01, max_iter=3000, random_state=0, solver=liblinear .........\n",
      "[CV]  C=0.01, max_iter=3000, random_state=0, solver=liblinear, score=0.535961, total=   2.3s\n",
      "[CV] C=0.01, max_iter=3000, random_state=0, solver=liblinear .........\n",
      "[CV]  C=0.01, max_iter=3000, random_state=0, solver=liblinear, score=0.508991, total=   2.1s\n",
      "[CV] C=0.01, max_iter=3000, random_state=0, solver=liblinear .........\n",
      "[CV]  C=0.01, max_iter=3000, random_state=0, solver=liblinear, score=0.489238, total=   2.4s\n",
      "[CV] C=0.01, max_iter=3000, random_state=0, solver=sag ...............\n",
      "[CV]  C=0.01, max_iter=3000, random_state=0, solver=sag, score=0.546006, total=  10.9s\n",
      "[CV] C=0.01, max_iter=3000, random_state=0, solver=sag ...............\n",
      "[CV]  C=0.01, max_iter=3000, random_state=0, solver=sag, score=0.510040, total=  11.3s\n",
      "[CV] C=0.01, max_iter=3000, random_state=0, solver=sag ...............\n",
      "[CV]  C=0.01, max_iter=3000, random_state=0, solver=sag, score=0.493540, total=   8.0s\n",
      "[CV] C=10000.0, max_iter=1000, random_state=0, solver=newton-cg ......\n",
      "[CV]  C=10000.0, max_iter=1000, random_state=0, solver=newton-cg, score=0.577458, total=   8.2s\n",
      "[CV] C=10000.0, max_iter=1000, random_state=0, solver=newton-cg ......\n",
      "[CV]  C=10000.0, max_iter=1000, random_state=0, solver=newton-cg, score=0.581384, total=   8.4s\n",
      "[CV] C=10000.0, max_iter=1000, random_state=0, solver=newton-cg ......\n",
      "[CV]  C=10000.0, max_iter=1000, random_state=0, solver=newton-cg, score=0.556526, total=  10.1s\n",
      "[CV] C=10000.0, max_iter=1000, random_state=0, solver=lbfgs ..........\n",
      "[CV]  C=10000.0, max_iter=1000, random_state=0, solver=lbfgs, score=0.576357, total=   4.7s\n",
      "[CV] C=10000.0, max_iter=1000, random_state=0, solver=lbfgs ..........\n",
      "[CV]  C=10000.0, max_iter=1000, random_state=0, solver=lbfgs, score=0.577982, total=   4.8s\n",
      "[CV] C=10000.0, max_iter=1000, random_state=0, solver=lbfgs ..........\n",
      "[CV]  C=10000.0, max_iter=1000, random_state=0, solver=lbfgs, score=0.562307, total=   4.8s\n",
      "[CV] C=10000.0, max_iter=1000, random_state=0, solver=liblinear ......\n",
      "[CV]  C=10000.0, max_iter=1000, random_state=0, solver=liblinear, score=0.577458, total=  25.0s\n",
      "[CV] C=10000.0, max_iter=1000, random_state=0, solver=liblinear ......\n",
      "[CV]  C=10000.0, max_iter=1000, random_state=0, solver=liblinear, score=0.581384, total=  29.1s\n",
      "[CV] C=10000.0, max_iter=1000, random_state=0, solver=liblinear ......\n",
      "[CV]  C=10000.0, max_iter=1000, random_state=0, solver=liblinear, score=0.556526, total=  23.7s\n",
      "[CV] C=10000.0, max_iter=1000, random_state=0, solver=sag ............\n"
     ]
    },
    {
     "name": "stderr",
     "output_type": "stream",
     "text": [
      "/usr/local/lib/python3.6/site-packages/sklearn/linear_model/sag.py:286: ConvergenceWarning: The max_iter was reached which means the coef_ did not converge\n",
      "  \"the coef_ did not converge\", ConvergenceWarning)\n"
     ]
    },
    {
     "name": "stdout",
     "output_type": "stream",
     "text": [
      "[CV]  C=10000.0, max_iter=1000, random_state=0, solver=sag, score=0.585759, total= 1.0min\n",
      "[CV] C=10000.0, max_iter=1000, random_state=0, solver=sag ............\n"
     ]
    },
    {
     "name": "stderr",
     "output_type": "stream",
     "text": [
      "/usr/local/lib/python3.6/site-packages/sklearn/linear_model/sag.py:286: ConvergenceWarning: The max_iter was reached which means the coef_ did not converge\n",
      "  \"the coef_ did not converge\", ConvergenceWarning)\n"
     ]
    },
    {
     "name": "stdout",
     "output_type": "stream",
     "text": [
      "[CV]  C=10000.0, max_iter=1000, random_state=0, solver=sag, score=0.579611, total=  59.7s\n",
      "[CV] C=10000.0, max_iter=1000, random_state=0, solver=sag ............\n"
     ]
    },
    {
     "name": "stderr",
     "output_type": "stream",
     "text": [
      "/usr/local/lib/python3.6/site-packages/sklearn/linear_model/sag.py:286: ConvergenceWarning: The max_iter was reached which means the coef_ did not converge\n",
      "  \"the coef_ did not converge\", ConvergenceWarning)\n"
     ]
    },
    {
     "name": "stdout",
     "output_type": "stream",
     "text": [
      "[CV]  C=10000.0, max_iter=1000, random_state=0, solver=sag, score=0.569119, total=  57.1s\n",
      "[CV] C=10000.0, max_iter=2000, random_state=0, solver=newton-cg ......\n",
      "[CV]  C=10000.0, max_iter=2000, random_state=0, solver=newton-cg, score=0.577458, total=   9.8s\n",
      "[CV] C=10000.0, max_iter=2000, random_state=0, solver=newton-cg ......\n",
      "[CV]  C=10000.0, max_iter=2000, random_state=0, solver=newton-cg, score=0.581384, total=   8.3s\n",
      "[CV] C=10000.0, max_iter=2000, random_state=0, solver=newton-cg ......\n",
      "[CV]  C=10000.0, max_iter=2000, random_state=0, solver=newton-cg, score=0.556526, total=  10.1s\n",
      "[CV] C=10000.0, max_iter=2000, random_state=0, solver=lbfgs ..........\n",
      "[CV]  C=10000.0, max_iter=2000, random_state=0, solver=lbfgs, score=0.577102, total=  10.1s\n",
      "[CV] C=10000.0, max_iter=2000, random_state=0, solver=lbfgs ..........\n",
      "[CV]  C=10000.0, max_iter=2000, random_state=0, solver=lbfgs, score=0.580744, total=   9.1s\n",
      "[CV] C=10000.0, max_iter=2000, random_state=0, solver=lbfgs ..........\n",
      "[CV]  C=10000.0, max_iter=2000, random_state=0, solver=lbfgs, score=0.556070, total=  10.8s\n",
      "[CV] C=10000.0, max_iter=2000, random_state=0, solver=liblinear ......\n",
      "[CV]  C=10000.0, max_iter=2000, random_state=0, solver=liblinear, score=0.577458, total=  24.4s\n",
      "[CV] C=10000.0, max_iter=2000, random_state=0, solver=liblinear ......\n",
      "[CV]  C=10000.0, max_iter=2000, random_state=0, solver=liblinear, score=0.581384, total=  25.8s\n",
      "[CV] C=10000.0, max_iter=2000, random_state=0, solver=liblinear ......\n",
      "[CV]  C=10000.0, max_iter=2000, random_state=0, solver=liblinear, score=0.556526, total=  25.0s\n",
      "[CV] C=10000.0, max_iter=2000, random_state=0, solver=sag ............\n"
     ]
    },
    {
     "name": "stderr",
     "output_type": "stream",
     "text": [
      "/usr/local/lib/python3.6/site-packages/sklearn/linear_model/sag.py:286: ConvergenceWarning: The max_iter was reached which means the coef_ did not converge\n",
      "  \"the coef_ did not converge\", ConvergenceWarning)\n"
     ]
    },
    {
     "name": "stdout",
     "output_type": "stream",
     "text": [
      "[CV]  C=10000.0, max_iter=2000, random_state=0, solver=sag, score=0.582642, total= 2.0min\n",
      "[CV] C=10000.0, max_iter=2000, random_state=0, solver=sag ............\n"
     ]
    },
    {
     "name": "stderr",
     "output_type": "stream",
     "text": [
      "/usr/local/lib/python3.6/site-packages/sklearn/linear_model/sag.py:286: ConvergenceWarning: The max_iter was reached which means the coef_ did not converge\n",
      "  \"the coef_ did not converge\", ConvergenceWarning)\n"
     ]
    },
    {
     "name": "stdout",
     "output_type": "stream",
     "text": [
      "[CV]  C=10000.0, max_iter=2000, random_state=0, solver=sag, score=0.580628, total= 2.0min\n",
      "[CV] C=10000.0, max_iter=2000, random_state=0, solver=sag ............\n",
      "[CV]  C=10000.0, max_iter=2000, random_state=0, solver=sag, score=0.565011, total= 1.8min\n",
      "[CV] C=10000.0, max_iter=3000, random_state=0, solver=newton-cg ......\n",
      "[CV]  C=10000.0, max_iter=3000, random_state=0, solver=newton-cg, score=0.577458, total=   7.5s\n",
      "[CV] C=10000.0, max_iter=3000, random_state=0, solver=newton-cg ......\n",
      "[CV]  C=10000.0, max_iter=3000, random_state=0, solver=newton-cg, score=0.581384, total=   7.1s\n",
      "[CV] C=10000.0, max_iter=3000, random_state=0, solver=newton-cg ......\n",
      "[CV]  C=10000.0, max_iter=3000, random_state=0, solver=newton-cg, score=0.556526, total=   8.5s\n",
      "[CV] C=10000.0, max_iter=3000, random_state=0, solver=lbfgs ..........\n",
      "[CV]  C=10000.0, max_iter=3000, random_state=0, solver=lbfgs, score=0.577102, total=   8.6s\n",
      "[CV] C=10000.0, max_iter=3000, random_state=0, solver=lbfgs ..........\n",
      "[CV]  C=10000.0, max_iter=3000, random_state=0, solver=lbfgs, score=0.580744, total=   7.5s\n",
      "[CV] C=10000.0, max_iter=3000, random_state=0, solver=lbfgs ..........\n",
      "[CV]  C=10000.0, max_iter=3000, random_state=0, solver=lbfgs, score=0.556070, total=   9.0s\n",
      "[CV] C=10000.0, max_iter=3000, random_state=0, solver=liblinear ......\n",
      "[CV]  C=10000.0, max_iter=3000, random_state=0, solver=liblinear, score=0.577458, total=  22.2s\n",
      "[CV] C=10000.0, max_iter=3000, random_state=0, solver=liblinear ......\n",
      "[CV]  C=10000.0, max_iter=3000, random_state=0, solver=liblinear, score=0.581384, total=  22.9s\n",
      "[CV] C=10000.0, max_iter=3000, random_state=0, solver=liblinear ......\n",
      "[CV]  C=10000.0, max_iter=3000, random_state=0, solver=liblinear, score=0.556526, total=  19.6s\n",
      "[CV] C=10000.0, max_iter=3000, random_state=0, solver=sag ............\n",
      "[CV]  C=10000.0, max_iter=3000, random_state=0, solver=sag, score=0.581155, total= 2.3min\n",
      "[CV] C=10000.0, max_iter=3000, random_state=0, solver=sag ............\n",
      "[CV]  C=10000.0, max_iter=3000, random_state=0, solver=sag, score=0.579725, total= 2.2min\n",
      "[CV] C=10000.0, max_iter=3000, random_state=0, solver=sag ............\n",
      "[CV]  C=10000.0, max_iter=3000, random_state=0, solver=sag, score=0.565011, total= 1.8min\n",
      "[CV] C=10000000000.0, max_iter=1000, random_state=0, solver=newton-cg \n",
      "[CV]  C=10000000000.0, max_iter=1000, random_state=0, solver=newton-cg, score=0.577458, total=   8.3s\n",
      "[CV] C=10000000000.0, max_iter=1000, random_state=0, solver=newton-cg \n",
      "[CV]  C=10000000000.0, max_iter=1000, random_state=0, solver=newton-cg, score=0.581384, total=   8.1s\n",
      "[CV] C=10000000000.0, max_iter=1000, random_state=0, solver=newton-cg \n",
      "[CV]  C=10000000000.0, max_iter=1000, random_state=0, solver=newton-cg, score=0.556526, total=   8.0s\n",
      "[CV] C=10000000000.0, max_iter=1000, random_state=0, solver=lbfgs ....\n",
      "[CV]  C=10000000000.0, max_iter=1000, random_state=0, solver=lbfgs, score=0.580394, total=   4.9s\n",
      "[CV] C=10000000000.0, max_iter=1000, random_state=0, solver=lbfgs ....\n",
      "[CV]  C=10000000000.0, max_iter=1000, random_state=0, solver=lbfgs, score=0.580122, total=   4.9s\n",
      "[CV] C=10000000000.0, max_iter=1000, random_state=0, solver=lbfgs ....\n",
      "[CV]  C=10000000000.0, max_iter=1000, random_state=0, solver=lbfgs, score=0.558929, total=   4.9s\n",
      "[CV] C=10000000000.0, max_iter=1000, random_state=0, solver=liblinear \n",
      "[CV]  C=10000000000.0, max_iter=1000, random_state=0, solver=liblinear, score=0.577458, total=  21.7s\n",
      "[CV] C=10000000000.0, max_iter=1000, random_state=0, solver=liblinear \n",
      "[CV]  C=10000000000.0, max_iter=1000, random_state=0, solver=liblinear, score=0.581384, total=  23.7s\n",
      "[CV] C=10000000000.0, max_iter=1000, random_state=0, solver=liblinear \n",
      "[CV]  C=10000000000.0, max_iter=1000, random_state=0, solver=liblinear, score=0.556526, total=  24.6s\n",
      "[CV] C=10000000000.0, max_iter=1000, random_state=0, solver=sag ......\n"
     ]
    },
    {
     "name": "stderr",
     "output_type": "stream",
     "text": [
      "/usr/local/lib/python3.6/site-packages/sklearn/linear_model/sag.py:286: ConvergenceWarning: The max_iter was reached which means the coef_ did not converge\n",
      "  \"the coef_ did not converge\", ConvergenceWarning)\n"
     ]
    },
    {
     "name": "stdout",
     "output_type": "stream",
     "text": [
      "[CV]  C=10000000000.0, max_iter=1000, random_state=0, solver=sag, score=0.585759, total=  59.1s\n",
      "[CV] C=10000000000.0, max_iter=1000, random_state=0, solver=sag ......\n"
     ]
    },
    {
     "name": "stderr",
     "output_type": "stream",
     "text": [
      "/usr/local/lib/python3.6/site-packages/sklearn/linear_model/sag.py:286: ConvergenceWarning: The max_iter was reached which means the coef_ did not converge\n",
      "  \"the coef_ did not converge\", ConvergenceWarning)\n"
     ]
    },
    {
     "name": "stdout",
     "output_type": "stream",
     "text": [
      "[CV]  C=10000000000.0, max_iter=1000, random_state=0, solver=sag, score=0.579611, total=  58.3s\n",
      "[CV] C=10000000000.0, max_iter=1000, random_state=0, solver=sag ......\n"
     ]
    },
    {
     "name": "stderr",
     "output_type": "stream",
     "text": [
      "/usr/local/lib/python3.6/site-packages/sklearn/linear_model/sag.py:286: ConvergenceWarning: The max_iter was reached which means the coef_ did not converge\n",
      "  \"the coef_ did not converge\", ConvergenceWarning)\n"
     ]
    },
    {
     "name": "stdout",
     "output_type": "stream",
     "text": [
      "[CV]  C=10000000000.0, max_iter=1000, random_state=0, solver=sag, score=0.569119, total=  53.3s\n",
      "[CV] C=10000000000.0, max_iter=2000, random_state=0, solver=newton-cg \n",
      "[CV]  C=10000000000.0, max_iter=2000, random_state=0, solver=newton-cg, score=0.577458, total=   6.9s\n",
      "[CV] C=10000000000.0, max_iter=2000, random_state=0, solver=newton-cg \n",
      "[CV]  C=10000000000.0, max_iter=2000, random_state=0, solver=newton-cg, score=0.581384, total=   7.2s\n",
      "[CV] C=10000000000.0, max_iter=2000, random_state=0, solver=newton-cg \n",
      "[CV]  C=10000000000.0, max_iter=2000, random_state=0, solver=newton-cg, score=0.556526, total=   6.8s\n",
      "[CV] C=10000000000.0, max_iter=2000, random_state=0, solver=lbfgs ....\n",
      "[CV]  C=10000000000.0, max_iter=2000, random_state=0, solver=lbfgs, score=0.578053, total=   8.3s\n",
      "[CV] C=10000000000.0, max_iter=2000, random_state=0, solver=lbfgs ....\n",
      "[CV]  C=10000000000.0, max_iter=2000, random_state=0, solver=lbfgs, score=0.578466, total=   6.3s\n",
      "[CV] C=10000000000.0, max_iter=2000, random_state=0, solver=lbfgs ....\n",
      "[CV]  C=10000000000.0, max_iter=2000, random_state=0, solver=lbfgs, score=0.556526, total=   8.2s\n",
      "[CV] C=10000000000.0, max_iter=2000, random_state=0, solver=liblinear \n",
      "[CV]  C=10000000000.0, max_iter=2000, random_state=0, solver=liblinear, score=0.577458, total=  18.6s\n",
      "[CV] C=10000000000.0, max_iter=2000, random_state=0, solver=liblinear \n",
      "[CV]  C=10000000000.0, max_iter=2000, random_state=0, solver=liblinear, score=0.581384, total=  19.9s\n",
      "[CV] C=10000000000.0, max_iter=2000, random_state=0, solver=liblinear \n",
      "[CV]  C=10000000000.0, max_iter=2000, random_state=0, solver=liblinear, score=0.556526, total=  20.7s\n",
      "[CV] C=10000000000.0, max_iter=2000, random_state=0, solver=sag ......\n"
     ]
    },
    {
     "name": "stderr",
     "output_type": "stream",
     "text": [
      "/usr/local/lib/python3.6/site-packages/sklearn/linear_model/sag.py:286: ConvergenceWarning: The max_iter was reached which means the coef_ did not converge\n",
      "  \"the coef_ did not converge\", ConvergenceWarning)\n"
     ]
    },
    {
     "name": "stdout",
     "output_type": "stream",
     "text": [
      "[CV]  C=10000000000.0, max_iter=2000, random_state=0, solver=sag, score=0.582642, total= 1.8min\n",
      "[CV] C=10000000000.0, max_iter=2000, random_state=0, solver=sag ......\n"
     ]
    },
    {
     "name": "stderr",
     "output_type": "stream",
     "text": [
      "/usr/local/lib/python3.6/site-packages/sklearn/linear_model/sag.py:286: ConvergenceWarning: The max_iter was reached which means the coef_ did not converge\n",
      "  \"the coef_ did not converge\", ConvergenceWarning)\n"
     ]
    },
    {
     "name": "stdout",
     "output_type": "stream",
     "text": [
      "[CV]  C=10000000000.0, max_iter=2000, random_state=0, solver=sag, score=0.580628, total= 1.8min\n",
      "[CV] C=10000000000.0, max_iter=2000, random_state=0, solver=sag ......\n",
      "[CV]  C=10000000000.0, max_iter=2000, random_state=0, solver=sag, score=0.565011, total= 1.7min\n",
      "[CV] C=10000000000.0, max_iter=3000, random_state=0, solver=newton-cg \n",
      "[CV]  C=10000000000.0, max_iter=3000, random_state=0, solver=newton-cg, score=0.577458, total=   6.8s\n",
      "[CV] C=10000000000.0, max_iter=3000, random_state=0, solver=newton-cg \n",
      "[CV]  C=10000000000.0, max_iter=3000, random_state=0, solver=newton-cg, score=0.581384, total=   7.1s\n",
      "[CV] C=10000000000.0, max_iter=3000, random_state=0, solver=newton-cg \n",
      "[CV]  C=10000000000.0, max_iter=3000, random_state=0, solver=newton-cg, score=0.556526, total=   6.7s\n",
      "[CV] C=10000000000.0, max_iter=3000, random_state=0, solver=lbfgs ....\n",
      "[CV]  C=10000000000.0, max_iter=3000, random_state=0, solver=lbfgs, score=0.578053, total=   8.4s\n",
      "[CV] C=10000000000.0, max_iter=3000, random_state=0, solver=lbfgs ....\n",
      "[CV]  C=10000000000.0, max_iter=3000, random_state=0, solver=lbfgs, score=0.578466, total=   6.4s\n",
      "[CV] C=10000000000.0, max_iter=3000, random_state=0, solver=lbfgs ....\n",
      "[CV]  C=10000000000.0, max_iter=3000, random_state=0, solver=lbfgs, score=0.556526, total=   8.4s\n",
      "[CV] C=10000000000.0, max_iter=3000, random_state=0, solver=liblinear \n",
      "[CV]  C=10000000000.0, max_iter=3000, random_state=0, solver=liblinear, score=0.577458, total=  19.0s\n",
      "[CV] C=10000000000.0, max_iter=3000, random_state=0, solver=liblinear \n",
      "[CV]  C=10000000000.0, max_iter=3000, random_state=0, solver=liblinear, score=0.581384, total=  19.9s\n",
      "[CV] C=10000000000.0, max_iter=3000, random_state=0, solver=liblinear \n",
      "[CV]  C=10000000000.0, max_iter=3000, random_state=0, solver=liblinear, score=0.556526, total=  20.7s\n",
      "[CV] C=10000000000.0, max_iter=3000, random_state=0, solver=sag ......\n",
      "[CV]  C=10000000000.0, max_iter=3000, random_state=0, solver=sag, score=0.581155, total= 2.1min\n",
      "[CV] C=10000000000.0, max_iter=3000, random_state=0, solver=sag ......\n",
      "[CV]  C=10000000000.0, max_iter=3000, random_state=0, solver=sag, score=0.579725, total= 2.2min\n",
      "[CV] C=10000000000.0, max_iter=3000, random_state=0, solver=sag ......\n",
      "[CV]  C=10000000000.0, max_iter=3000, random_state=0, solver=sag, score=0.565011, total= 1.8min\n"
     ]
    },
    {
     "name": "stderr",
     "output_type": "stream",
     "text": [
      "[Parallel(n_jobs=1)]: Done 108 out of 108 | elapsed: 42.6min finished\n",
      "/usr/local/lib/python3.6/site-packages/sklearn/linear_model/sag.py:286: ConvergenceWarning: The max_iter was reached which means the coef_ did not converge\n",
      "  \"the coef_ did not converge\", ConvergenceWarning)\n"
     ]
    },
    {
     "ename": "TypeError",
     "evalue": "sorted() takes at most 3 arguments (4 given)",
     "output_type": "error",
     "traceback": [
      "\u001b[0;31m---------------------------------------------------------------------------\u001b[0m",
      "\u001b[0;31mTypeError\u001b[0m                                 Traceback (most recent call last)",
      "\u001b[0;32m<ipython-input-27-10b49f6da3ba>\u001b[0m in \u001b[0;36m<module>\u001b[0;34m()\u001b[0m\n\u001b[1;32m      9\u001b[0m }\n\u001b[1;32m     10\u001b[0m \u001b[0;34m\u001b[0m\u001b[0m\n\u001b[0;32m---> 11\u001b[0;31m \u001b[0mscore\u001b[0m\u001b[0;34m,\u001b[0m \u001b[0mmodel\u001b[0m\u001b[0;34m,\u001b[0m \u001b[0mfeature_importances\u001b[0m\u001b[0;34m,\u001b[0m \u001b[0mfeatures_to_use\u001b[0m \u001b[0;34m=\u001b[0m \u001b[0mtr\u001b[0m\u001b[0;34m.\u001b[0m\u001b[0mtrain_using_best_features\u001b[0m\u001b[0;34m(\u001b[0m\u001b[0mtraining_opts\u001b[0m\u001b[0;34m)\u001b[0m\u001b[0;34m\u001b[0m\u001b[0m\n\u001b[0m",
      "\u001b[0;32m/Users/tommy_dang/Code/ai/cia/helpers/trainer.py\u001b[0m in \u001b[0;36mtrain_using_best_features\u001b[0;34m(opts)\u001b[0m\n\u001b[1;32m     59\u001b[0m         \u001b[0mscorer\u001b[0m \u001b[0;34m=\u001b[0m \u001b[0mopts\u001b[0m\u001b[0;34m[\u001b[0m\u001b[0;34m'scorer'\u001b[0m\u001b[0;34m]\u001b[0m\u001b[0;34m\u001b[0m\u001b[0m\n\u001b[1;32m     60\u001b[0m         \u001b[0mmodel\u001b[0m\u001b[0;34m.\u001b[0m\u001b[0mfit\u001b[0m\u001b[0;34m(\u001b[0m\u001b[0mtraining_set_to_use\u001b[0m\u001b[0;34m,\u001b[0m \u001b[0mcm\u001b[0m\u001b[0;34m.\u001b[0m\u001b[0mlabels_to_array\u001b[0m\u001b[0;34m(\u001b[0m\u001b[0mtraining_set_labels\u001b[0m\u001b[0;34m)\u001b[0m\u001b[0;34m)\u001b[0m\u001b[0;34m\u001b[0m\u001b[0m\n\u001b[0;32m---> 61\u001b[0;31m         \u001b[0mscore\u001b[0m \u001b[0;34m=\u001b[0m \u001b[0mscorer\u001b[0m\u001b[0;34m(\u001b[0m\u001b[0mcm\u001b[0m\u001b[0;34m.\u001b[0m\u001b[0mlabels_to_array\u001b[0m\u001b[0;34m(\u001b[0m\u001b[0mtest_set_labels\u001b[0m\u001b[0;34m)\u001b[0m\u001b[0;34m,\u001b[0m \u001b[0mmodel\u001b[0m\u001b[0;34m.\u001b[0m\u001b[0mpredict\u001b[0m\u001b[0;34m(\u001b[0m\u001b[0mtest_set_to_use\u001b[0m\u001b[0;34m)\u001b[0m\u001b[0;34m)\u001b[0m\u001b[0;34m\u001b[0m\u001b[0m\n\u001b[0m\u001b[1;32m     62\u001b[0m \u001b[0;34m\u001b[0m\u001b[0m\n\u001b[1;32m     63\u001b[0m     feature_importances = sorted(\n",
      "\u001b[0;31mTypeError\u001b[0m: sorted() takes at most 3 arguments (4 given)"
     ]
    }
   ],
   "source": [
    "training_opts = {\n",
    "    'features_to_use': X_train.columns[2:],\n",
    "    'n_times_to_try': 1,\n",
    "    'coef_extractor': lambda x: x.coef_[0],\n",
    "    'grid_search': gs,\n",
    "    'data': X_train,\n",
    "    'labels': y_train,\n",
    "    'columns_to_stratify': None,\n",
    "}\n",
    "\n",
    "score, model, feature_importances, features_to_use = tr.train_using_best_features(training_opts)"
   ]
  },
  {
   "cell_type": "code",
   "execution_count": 32,
   "metadata": {},
   "outputs": [],
   "source": [
    "# y_predict = model.predict(X_test)\n",
    "# precision_score(y_test, y_predict)"
   ]
  },
  {
   "cell_type": "markdown",
   "metadata": {
    "collapsed": true
   },
   "source": [
    "# Linear Regression\n",
    "---"
   ]
  },
  {
   "cell_type": "code",
   "execution_count": null,
   "metadata": {},
   "outputs": [],
   "source": [
    "df_cleaned, labels_cleaned = cl.clean_data_using_labels(\n",
    "    df_shared,\n",
    "    labels_original,\n",
    "    1,\n",
    "    lambda x, y: (x - y) / y\n",
    "#     lambda x, y: x\n",
    ")"
   ]
  },
  {
   "cell_type": "code",
   "execution_count": null,
   "metadata": {},
   "outputs": [],
   "source": [
    "X_train, y_train, X_test, y_test = tr.training_and_test_sets(\n",
    "    df_cleaned,\n",
    "    labels_cleaned,\n",
    "    ['date', 'hour', 'minute'],\n",
    ")"
   ]
  },
  {
   "cell_type": "code",
   "execution_count": null,
   "metadata": {
    "collapsed": true
   },
   "outputs": [],
   "source": [
    "r_model = LinearRegression()\n",
    "\n",
    "param_grid = {}\n",
    "\n",
    "gs = GridSearchCV(\n",
    "    r_model,\n",
    "    param_grid,\n",
    "    cv=3,\n",
    "    scoring=make_scorer(mean_squared_error),\n",
    "    verbose=0,\n",
    ")"
   ]
  },
  {
   "cell_type": "code",
   "execution_count": null,
   "metadata": {
    "collapsed": true
   },
   "outputs": [],
   "source": [
    "gs.fit(X_train, cm.labels_to_array(y_train))"
   ]
  },
  {
   "cell_type": "code",
   "execution_count": null,
   "metadata": {
    "collapsed": true
   },
   "outputs": [],
   "source": [
    "best_model = gs.best_estimator_\n",
    "cv_results = gs.cv_results_\n",
    "\n",
    "feature_importances = sorted(\n",
    "    zip(\n",
    "        best_model.coef_,\n",
    "        X_train.columns,\n",
    "    ),\n",
    "    key=lambda x: np.absolute(x[0]),\n",
    "    reverse=True,\n",
    ")\n",
    "best_features = [f for s, f in feature_importances]\n",
    "feature_importances[0:20]"
   ]
  },
  {
   "cell_type": "code",
   "execution_count": null,
   "metadata": {
    "collapsed": true
   },
   "outputs": [],
   "source": [
    "y_predict = best_model.predict(X_test)\n",
    "mean_squared_error(y_test, y_predict)"
   ]
  }
 ],
 "metadata": {
  "kernelspec": {
   "display_name": "Python 3",
   "language": "python",
   "name": "python3"
  },
  "language_info": {
   "codemirror_mode": {
    "name": "ipython",
    "version": 3
   },
   "file_extension": ".py",
   "mimetype": "text/x-python",
   "name": "python",
   "nbconvert_exporter": "python",
   "pygments_lexer": "ipython3",
   "version": "3.6.1"
  }
 },
 "nbformat": 4,
 "nbformat_minor": 2
}
